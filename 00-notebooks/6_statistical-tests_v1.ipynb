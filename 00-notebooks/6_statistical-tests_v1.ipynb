{
 "cells": [
  {
   "cell_type": "markdown",
   "id": "b8c14453-62ca-44a6-ab28-b1fc22901093",
   "metadata": {},
   "source": [
    "# Statistical Tests\n",
    "\n",
    "We want to know whether the difference between averages for different HOLC grades is statistically significant. To do this we apply Student's t-test. This is designed to compare two different averages, so we compute the the significance between two HOLC grades at a time, giving a total of 3! tests.\n",
    "\n",
    "The compares against the null hypothesis, which states there is not difference between the means. If the calculated t-value is greater than the t-value from the t-table (for your desired alpha), then the null hypothesis can be rejected. This implies that the differences between the populations did not happen by chance. \n",
    "\n",
    "We apply the equal variance independent T-Test. Assumptions of the test:\n",
    "\n",
    "1. The data is normally distributed\n",
    "2. The population variance in unknown, and the sample variances are approximately equal\n",
    "3. The data leading to each mean are independent. *(There's no overlap in HOLC boundaries, so I think this holds.)*\n",
    "\n",
    "## Data \n",
    "\n",
    "From each Landsat file, we have one value for the mean of meadians of HOLC A through HOLC D. The set of means forms the data sets used in the test. This means we have 113 data elements for every HOLC grade, since we have one value for every Landsat file. "
   ]
  },
  {
   "cell_type": "markdown",
   "id": "7920c350-3ae7-44c7-936f-658d75dfbbcc",
   "metadata": {},
   "source": [
    "# Equal variance independent T-test"
   ]
  },
  {
   "cell_type": "code",
   "execution_count": 89,
   "id": "d2f8acc4-9798-4d0f-8ac9-59af096d2ada",
   "metadata": {},
   "outputs": [],
   "source": [
    "import os\n",
    "import pandas as pd\n",
    "from scipy import stats\n",
    "import numpy as np\n",
    "import matplotlib.pyplot as plt\n",
    "\n",
    "DIR_PARENT = os.path.abspath(os.path.join(os.getcwd(), os.pardir))\n",
    "DIR_DATA = DIR_PARENT + \"/02-data\"\n",
    "DIR_STATS_AGG = DIR_DATA + \"/summary_stats_agg\"\n",
    "\n",
    "# START FILE IMPORT\n",
    "lst_stats = pd.read_csv(DIR_STATS_AGG + \"/lst_mean_stats_combined.csv\")\n",
    "ndvi_stats = pd.read_csv(DIR_STATS_AGG + \"/ndvi_mean_stats_combined.csv\")\n",
    "\n",
    "stat_choice = \"median\" # OPTIONS: \"mean\", \"median\", \"min\", \"max\", \"stdev\"\n",
    "\n",
    "# Filter the LST data for NYC. This can be repeated for any of the \n",
    "# boroughs as well. \n",
    "lst_a = lst_stats[(lst_stats[\"holc_grade\"]==\"A\") & \\\n",
    "                  (lst_stats[\"loc_year\"]==\"NYC\")][stat_choice]\n",
    "lst_b = lst_stats[(lst_stats[\"holc_grade\"]==\"B\")& \\\n",
    "                  (lst_stats[\"loc_year\"]==\"NYC\")][stat_choice]\n",
    "lst_c = lst_stats[(lst_stats[\"holc_grade\"]==\"C\")& \\\n",
    "                  (lst_stats[\"loc_year\"]==\"NYC\")][stat_choice]\n",
    "lst_d = lst_stats[(lst_stats[\"holc_grade\"]==\"D\")& \\\n",
    "                  (lst_stats[\"loc_year\"]==\"NYC\")][stat_choice]"
   ]
  },
  {
   "cell_type": "markdown",
   "id": "29736c3e-ba8a-4503-9c44-196e5bc904cd",
   "metadata": {},
   "source": [
    "## Assumption 1: Normal distribution of the data\n",
    "\n",
    "Below we plot a histogram of the data used to compute the mean LST for each HOLC grade. We compute the mean and standard deviation, and overlay a Gaussian curve to visually test whether the data is normally distributed. "
   ]
  },
  {
   "cell_type": "code",
   "execution_count": 133,
   "id": "fa1f93a3-d9db-4c23-9d08-f9e48f91eee7",
   "metadata": {},
   "outputs": [
    {
     "name": "stdout",
     "output_type": "stream",
     "text": [
      "Mean LST =  301.7414044051033\n",
      "Stdev LST =  3.6494635969650293\n"
     ]
    },
    {
     "data": {
      "image/png": "[encoded data removed]",
      "text/plain": [
       "<Figure size 432x288 with 3 Axes>"
      ]
     },
     "metadata": {
      "needs_background": "light"
     },
     "output_type": "display_data"
    }
   ],
   "source": [
    "data_to_test = lst_c\n",
    "\n",
    "#########################################################################\n",
    "fig, ax = plt.subplots(1,1)\n",
    "\n",
    "ax2 = ax.twinx()\n",
    "ax3 = ax2.twiny()\n",
    "\n",
    "ax.hist(x=data_to_test, bins='auto', \n",
    "        color='#0504aa', alpha=0.7, rwidth=0.85)\n",
    "ax.set_xlabel(\"Temperature (K)\")\n",
    "ax.set_ylabel(\"Frequency\")\n",
    "\n",
    "\"\"\"Make Gasssian plot\"\"\"\n",
    "avg_data = np.mean(data_to_test)\n",
    "std_data = np.std(data_to_test)\n",
    "xgauss = np.linspace(np.min(data_to_test),np.max(data_to_test),50)\n",
    "ygauss = [(1/(std_data*np.sqrt(2*np.pi)))*np.exp(-(x-avg_data)**2/(2*std_data**2)) for x in xgauss]\n",
    "\n",
    "ax3.plot(xgauss, ygauss)\n",
    "ax2.set_ylabel(\"Gaussian\")\n",
    "\n",
    "print(\"Mean LST = \", avg_data)\n",
    "print(\"Stdev LST = \", std_data)"
   ]
  },
  {
   "cell_type": "markdown",
   "id": "694af87e-215f-4afd-907b-b1afc12aac42",
   "metadata": {},
   "source": [
    "## Assumption 2: Variances are the same\n",
    "\n",
    "Calculating the variance of each data set, we indeed find that they're about the same. "
   ]
  },
  {
   "cell_type": "code",
   "execution_count": 79,
   "id": "206a26d4-9a4f-43c0-8b8e-aca286f8b76b",
   "metadata": {},
   "outputs": [
    {
     "name": "stdout",
     "output_type": "stream",
     "text": [
      "Variance of HOLC A =  13.383139377746755\n",
      "Variance of HOLC B =  12.678654170025101\n",
      "Variance of HOLC C =  13.31858454557293\n",
      "Variance of HOLC D =  13.550190683518561\n"
     ]
    }
   ],
   "source": [
    "print(\"Variance of HOLC A = \", np.var(lst_a))\n",
    "print(\"Variance of HOLC B = \", np.var(lst_b))\n",
    "print(\"Variance of HOLC C = \", np.var(lst_c))\n",
    "print(\"Variance of HOLC D = \", np.var(lst_d))"
   ]
  },
  {
   "cell_type": "markdown",
   "id": "223826d9-132e-420d-92a1-d7b9f2d139d2",
   "metadata": {},
   "source": [
    "## Compute t-values\n",
    "\n",
    "Below we compute the t-values between pairs of HOLC grades. In this way, we test for independence of means between HOLC A and HOLC B, HOLC A and HOLC C, etc. \n",
    "\n",
    "We use `scipy`'s `ttest_ind` function. The documentation gives the following description of this function. \n",
    "\n",
    "    Calculate the T-test for the means of two independent samples of scores.\n",
    "\n",
    "    This is a test for the null hypothesis that 2 independent samples have identical average (expected) values. This test assumes that the populations have identical variances by default."
   ]
  },
  {
   "cell_type": "code",
   "execution_count": 130,
   "id": "9915ca1f-f564-495b-bc9f-dc9c9a35f969",
   "metadata": {},
   "outputs": [
    {
     "data": {
      "text/html": [
       "<div>\n",
       "<style scoped>\n",
       "    .dataframe tbody tr th:only-of-type {\n",
       "        vertical-align: middle;\n",
       "    }\n",
       "\n",
       "    .dataframe tbody tr th {\n",
       "        vertical-align: top;\n",
       "    }\n",
       "\n",
       "    .dataframe thead th {\n",
       "        text-align: right;\n",
       "    }\n",
       "</style>\n",
       "<table border=\"1\" class=\"dataframe\">\n",
       "  <thead>\n",
       "    <tr style=\"text-align: right;\">\n",
       "      <th></th>\n",
       "      <th>t-value</th>\n",
       "      <th>p-value</th>\n",
       "      <th>degrees-of-freedom</th>\n",
       "    </tr>\n",
       "  </thead>\n",
       "  <tbody>\n",
       "    <tr>\n",
       "      <th>ab</th>\n",
       "      <td>-2.94452</td>\n",
       "      <td>0.00357552</td>\n",
       "      <td>224</td>\n",
       "    </tr>\n",
       "    <tr>\n",
       "      <th>ac</th>\n",
       "      <td>-4.78656</td>\n",
       "      <td>3.08106e-06</td>\n",
       "      <td>224</td>\n",
       "    </tr>\n",
       "    <tr>\n",
       "      <th>ad</th>\n",
       "      <td>-4.72085</td>\n",
       "      <td>4.13927e-06</td>\n",
       "      <td>224</td>\n",
       "    </tr>\n",
       "    <tr>\n",
       "      <th>bc</th>\n",
       "      <td>-1.9028</td>\n",
       "      <td>0.0583491</td>\n",
       "      <td>224</td>\n",
       "    </tr>\n",
       "    <tr>\n",
       "      <th>bd</th>\n",
       "      <td>-1.8487</td>\n",
       "      <td>0.0658187</td>\n",
       "      <td>224</td>\n",
       "    </tr>\n",
       "    <tr>\n",
       "      <th>cd</th>\n",
       "      <td>0.0451303</td>\n",
       "      <td>0.964044</td>\n",
       "      <td>224</td>\n",
       "    </tr>\n",
       "  </tbody>\n",
       "</table>\n",
       "</div>"
      ],
      "text/plain": [
       "      t-value      p-value  degrees-of-freedom\n",
       "ab   -2.94452   0.00357552                 224\n",
       "ac   -4.78656  3.08106e-06                 224\n",
       "ad   -4.72085  4.13927e-06                 224\n",
       "bc    -1.9028    0.0583491                 224\n",
       "bd    -1.8487    0.0658187                 224\n",
       "cd  0.0451303     0.964044                 224"
      ]
     },
     "execution_count": 130,
     "metadata": {},
     "output_type": "execute_result"
    }
   ],
   "source": [
    "stat_df = pd.DataFrame(columns=[\"t-value\",\"p-value\"],\n",
    "                      index=[\"ab\",\"ac\",\"ad\",\"bc\",\"bd\",\"cd\"])\n",
    "\n",
    "stat_df.loc[\"ab\"] = stats.ttest_ind(lst_a, lst_b)\n",
    "stat_df.loc[\"ac\"] = stats.ttest_ind(lst_a, lst_c)\n",
    "stat_df.loc[\"ad\"] = stats.ttest_ind(lst_a, lst_d)\n",
    "stat_df.loc[\"bc\"] = stats.ttest_ind(lst_b, lst_c)\n",
    "stat_df.loc[\"bd\"] = stats.ttest_ind(lst_b, lst_d)\n",
    "stat_df.loc[\"cd\"] = stats.ttest_ind(lst_c, lst_d)\n",
    "\n",
    "\"\"\"Add a column for the degrees of freedom\"\"\"\n",
    "dof = [len(lst_a)+len(lst_b)-2,\n",
    "        len(lst_a)+len(lst_c)-2,\n",
    "        len(lst_a)+len(lst_d)-2,\n",
    "        len(lst_b)+len(lst_c)-2,\n",
    "        len(lst_b)+len(lst_d)-2,\n",
    "        len(lst_c)+len(lst_d)-2]\n",
    "stat_df[\"degrees-of-freedom\"] = dof\n",
    "\n",
    "# Print the table\n",
    "stat_df"
   ]
  },
  {
   "cell_type": "markdown",
   "id": "42fa5b7b-d132-45a0-916a-7433d85e3b4e",
   "metadata": {},
   "source": [
    "We refer to the t-table, which can be found [here](https://www.brockport.edu/academics/tutoring/docs/students_t_distribution_table.pdf), to find the null-hypothesis t-value for \n",
    "\n",
    "- one-tail alpha level of 0.05\n",
    "- 224 degrees of freedom\n",
    "\n",
    "**The table predicts a value of $\\approx 1.6$.** Almost all t-values we computed are greater than this, and we can be confident that those means are independent. Something strange seems to be happening with the `cd` combination. "
   ]
  },
  {
   "cell_type": "code",
   "execution_count": null,
   "id": "cf0c62b3-8440-477f-8364-f71c979c5d62",
   "metadata": {},
   "outputs": [],
   "source": []
  }
 ],
 "metadata": {
  "kernelspec": {
   "display_name": "Python 3",
   "language": "python",
   "name": "python3"
  },
  "language_info": {
   "codemirror_mode": {
    "name": "ipython",
    "version": 3
   },
   "file_extension": ".py",
   "mimetype": "text/x-python",
   "name": "python",
   "nbconvert_exporter": "python",
   "pygments_lexer": "ipython3",
   "version": "3.6.12"
  }
 },
 "nbformat": 4,
 "nbformat_minor": 5
}
